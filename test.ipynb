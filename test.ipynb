{
  "nbformat": 4,
  "nbformat_minor": 0,
  "metadata": {
    "colab": {
      "name": "test.ipynb",
      "provenance": [],
      "authorship_tag": "ABX9TyNnhbaiDxY4CMTLKp0npPKF",
      "include_colab_link": true
    },
    "kernelspec": {
      "name": "python3",
      "display_name": "Python 3"
    }
  },
  "cells": [
    {
      "cell_type": "markdown",
      "metadata": {
        "id": "view-in-github",
        "colab_type": "text"
      },
      "source": [
        "<a href=\"https://colab.research.google.com/github/gDegano/Colab/blob/master/test.ipynb\" target=\"_parent\"><img src=\"https://colab.research.google.com/assets/colab-badge.svg\" alt=\"Open In Colab\"/></a>"
      ]
    },
    {
      "cell_type": "code",
      "metadata": {
        "id": "d0CgAD-ktILU",
        "colab_type": "code",
        "colab": {}
      },
      "source": [
        "import numpy as np\n",
        "from tensorflow import keras\n",
        "from tensorflow.keras import layers\n",
        "\n",
        "# IMDB database test... from keras example\n",
        "\n",
        "maxFeat = 20000 # take first N words from dataset\n",
        "maxlen = 250 # take the first N word from each rev"
      ],
      "execution_count": 0,
      "outputs": []
    },
    {
      "cell_type": "code",
      "metadata": {
        "id": "gPCcd-e4ukWN",
        "colab_type": "code",
        "colab": {
          "base_uri": "https://localhost:8080/",
          "height": 353
        },
        "outputId": "0d8c9398-3ab1-4689-defe-235588192d70"
      },
      "source": [
        "inputs=keras.Input(shape=(None,) ,dtype='int32')\n",
        "x = layers.Embedding(input_dim=maxFeat,output_dim=128)(inputs)\n",
        "x = layers.Bidirectional(layers.LSTM(70,return_sequences='True'))(x)\n",
        "x = layers.Bidirectional(layers.LSTM(70,return_sequences='True'))(x)\n",
        "x = layers.Bidirectional(layers.LSTM(70))(x)\n",
        "out = layers.Dense(units=1,activation='sigmoid')(x)\n",
        "model= keras.Model(inputs,out)\n",
        "model.summary()"
      ],
      "execution_count": 32,
      "outputs": [
        {
          "output_type": "stream",
          "text": [
            "Model: \"model_4\"\n",
            "_________________________________________________________________\n",
            "Layer (type)                 Output Shape              Param #   \n",
            "=================================================================\n",
            "input_16 (InputLayer)        [(None, None)]            0         \n",
            "_________________________________________________________________\n",
            "embedding_13 (Embedding)     (None, None, 128)         2560000   \n",
            "_________________________________________________________________\n",
            "bidirectional_16 (Bidirectio (None, None, 140)         111440    \n",
            "_________________________________________________________________\n",
            "bidirectional_17 (Bidirectio (None, None, 140)         118160    \n",
            "_________________________________________________________________\n",
            "bidirectional_18 (Bidirectio (None, 140)               118160    \n",
            "_________________________________________________________________\n",
            "dense_4 (Dense)              (None, 1)                 141       \n",
            "=================================================================\n",
            "Total params: 2,907,901\n",
            "Trainable params: 2,907,901\n",
            "Non-trainable params: 0\n",
            "_________________________________________________________________\n"
          ],
          "name": "stdout"
        }
      ]
    },
    {
      "cell_type": "code",
      "metadata": {
        "id": "DfpsKAE---N_",
        "colab_type": "code",
        "colab": {
          "base_uri": "https://localhost:8080/",
          "height": 50
        },
        "outputId": "8a1dbbcd-d925-4845-cb06-1d3920cf5cc7"
      },
      "source": [
        "(x_train, y_train), (x_test, y_test) = keras.datasets.imdb.load_data(num_words=maxFeat)\n",
        "print(len(x_train), \"Training sequences\")\n",
        "print(len(x_test), \"Validation sequences\")\n",
        "x_train = keras.preprocessing.sequence.pad_sequences(x_train, maxlen=maxlen)\n",
        "x_test = keras.preprocessing.sequence.pad_sequences(x_test, maxlen=maxlen)"
      ],
      "execution_count": 33,
      "outputs": [
        {
          "output_type": "stream",
          "text": [
            "25000 Training sequences\n",
            "25000 Validation sequences\n"
          ],
          "name": "stdout"
        }
      ]
    },
    {
      "cell_type": "code",
      "metadata": {
        "id": "0Y8GtyOS_YBE",
        "colab_type": "code",
        "colab": {
          "base_uri": "https://localhost:8080/",
          "height": 101
        },
        "outputId": "090a1159-3270-4fb2-a848-1d796789e383"
      },
      "source": [
        "model.compile(\"adam\", \"binary_crossentropy\", metrics=[\"accuracy\"])\n",
        "model.fit(x_train, y_train, batch_size=32, epochs=2, validation_data=(x_test, y_test))"
      ],
      "execution_count": 34,
      "outputs": [
        {
          "output_type": "stream",
          "text": [
            "Epoch 1/2\n",
            "782/782 [==============================] - 904s 1s/step - loss: 0.3874 - accuracy: 0.8272 - val_loss: 0.3367 - val_accuracy: 0.8534\n",
            "Epoch 2/2\n",
            "782/782 [==============================] - 901s 1s/step - loss: 0.2271 - accuracy: 0.9154 - val_loss: 0.3883 - val_accuracy: 0.8609\n"
          ],
          "name": "stdout"
        },
        {
          "output_type": "execute_result",
          "data": {
            "text/plain": [
              "<tensorflow.python.keras.callbacks.History at 0x7fee5b04ed68>"
            ]
          },
          "metadata": {
            "tags": []
          },
          "execution_count": 34
        }
      ]
    },
    {
      "cell_type": "code",
      "metadata": {
        "id": "FPVAYAnGOtGb",
        "colab_type": "code",
        "colab": {
          "base_uri": "https://localhost:8080/",
          "height": 34
        },
        "outputId": "45abfe7a-59aa-4d22-d80f-ffccea23da5a"
      },
      "source": [
        "y_train[3]"
      ],
      "execution_count": 38,
      "outputs": [
        {
          "output_type": "execute_result",
          "data": {
            "text/plain": [
              "1"
            ]
          },
          "metadata": {
            "tags": []
          },
          "execution_count": 38
        }
      ]
    }
  ]
}